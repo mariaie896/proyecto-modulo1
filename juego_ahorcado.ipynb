{
 "cells": [
  {
   "cell_type": "markdown",
   "metadata": {},
   "source": [
    "## Ahorcado\n",
    "\n",
    "Es un juego de adivinanzas en el que un jugador elige una palabra y el otro jugador debe adivinarla letra por letra. El jugador que adivina la palabra tiene un número limitado de oportunidades para adivinar las letras que forman la palabra. Cada vez que el jugador adivina una letra incorrecta, se dibuja una parte del cuerpo del personaje del ahorcado en una horca. Si el jugador adivina todas las letras de la palabra antes de que se complete el dibujo del personaje del ahorcado, gana el juego. Si el dibujo del personaje del ahorcado se completa antes de adivinar la palabra, pierde el juego."
   ]
  },
  {
   "cell_type": "markdown",
   "metadata": {},
   "source": [
    "for> itere por cada una de las letras de la palabra\n",
    "python:\n",
    "\n",
    "lista_acertadas= \n",
    "\n",
    "while lista_letra_acertada != palabra:\n",
    "\n",
    "> Agregar una lista vacia con las correctas  \n",
    "\n",
    "if letra in palabra:\n",
    "    lista_vacia.append(letra)\n",
    "else:\n",
    "    print( ' Vuelvelo a intentar)\n",
    "\n",
    "\n"
   ]
  },
  {
   "cell_type": "code",
   "execution_count": 3,
   "metadata": {},
   "outputs": [
    {
     "ename": "SyntaxError",
     "evalue": "invalid syntax (1405716988.py, line 33)",
     "output_type": "error",
     "traceback": [
      "\u001b[0;36m  Input \u001b[0;32mIn [3]\u001b[0;36m\u001b[0m\n\u001b[0;31m    palabra_oculta = \"\".join([letra if letra in palabra_secreta])\u001b[0m\n\u001b[0m                                                               ^\u001b[0m\n\u001b[0;31mSyntaxError\u001b[0m\u001b[0;31m:\u001b[0m invalid syntax\n"
     ]
    }
   ],
   "source": [
    "import random\n",
    "\n",
    "Lista_palabras= ['delfin','orca','tiburon','ballena','foca']\n",
    "lista_letra_acertada=[]\n",
    "palabra_secreta = random.choice(Lista_palabras)\n",
    "palabra_oculta ='*' * len(palabra_secreta)\n",
    "\n",
    "#pista1 = \"Vive en el mar\"\n",
    "#pista2 = \"Es carnívoro\"\n",
    "#pista3 = \"Tiene aletas\"\n",
    "#pista4 = \"Ya te di varias pistas... Inténtalo de nuevo!!\"\n",
    "\n",
    "#lista_pistas = [pista1, pista2, pista3, pista4]\n",
    "\n",
    "#def pista (lista):\n",
    "#    for pista in lista:\n",
    "        \n",
    " #       posicion = 0\n",
    "\n",
    "  #      if letra_usuario not in palabra_secreta:\n",
    "   #         posicion += 1\n",
    "    #        return f\"{lista[posicion]}\"\n",
    "\n",
    "print ('Bienvenido al juego del Ahorcado, en este juego deberas adivinar la palabra secreta. ¡¡¡Comencemos!!! Una pista? mmmmmm de momento intentémoslo sin ella 😈😈...')\n",
    "\n",
    "while \"*\" in palabra_oculta:\n",
    "    \n",
    "    letra_usuario = input('Introduce una letra')\n",
    "\n",
    "    if letra_usuario in palabra_secreta:\n",
    "        print(f' La letra: {letra_usuario} esta en la palabra secreta.¡ MUY BIEN!. Sigamos....')\n",
    "       # palabra_oculta = \"\".join([i if i == letra or letra in letras_acertadas else \"*\" for letra in palabra_secreta])\n",
    "        palabra_oculta = \"\".join([letra if letra in palabra_secreta])\n",
    "        lista_letra_acertada.append(letra_usuario)\n",
    "        print(palabra_oculta)\n",
    "   \n",
    "    \n",
    "    else:\n",
    "        print(f\"mmmmmm venga, inténtalo de nuevo, la letra {letra_usuario} no forma parte de la palabra secreta\")\n",
    "        resultado_pista = pista(lista_pistas)\n",
    "        print(resultado_pista)\n",
    "    \n",
    "    print (f'La palabra es, {palabra_oculta}')\n",
    "\n",
    "print(f\"¡Bravaaaa!!!! La palabra secreta era '{palabra_secreta}'\")\n",
    "\n"
   ]
  },
  {
   "cell_type": "code",
   "execution_count": 2,
   "metadata": {},
   "outputs": [],
   "source": [
    "import random\n",
    "\n",
    "Lista_palabras= ['delfin','orca','tiburon','ballena','foca']\n",
    "lista_letra_acertada=[]\n",
    "palabra_secreta = random.choice(Lista_palabras)\n",
    "palabra_oculta ='*' * len(palabra_secreta)\n",
    "\n",
    "def pista (lista):\n",
    "\n",
    "    pista1 = \"Vive en el mar\"\n",
    "    pista2 = \"Es carnívoro\"\n",
    "    pista3 = \"Tiene aletas\"\n",
    "    pista4 = \"Ya te di varias pistas... Inténtalo de nuevo!!\"\n",
    "\n",
    "    lista_pistas = [pista1, pista2, pista3, pista4]\n",
    "\n",
    "    for pista in lista_pistas:\n",
    "        \n",
    "        posicion = 0\n",
    "\n",
    "        if letra not in palabra_secreta:\n",
    "            posicion += 1\n",
    "            return f\"{lista_pistas[posicion]}\""
   ]
  },
  {
   "cell_type": "code",
   "execution_count": 13,
   "metadata": {},
   "outputs": [
    {
     "name": "stdout",
     "output_type": "stream",
     "text": [
      "perro\n"
     ]
    }
   ],
   "source": [
    "import random\n",
    "\n",
    "lista_letra_acertada=[]\n",
    "\n",
    "Lista_palabras= ['arbol','mesa','lapiz','perro','flor']\n",
    "palabra_secreta = random.choice(Lista_palabras)\n",
    "\n",
    "print (palabra_secreta)"
   ]
  }
 ],
 "metadata": {
  "kernelspec": {
   "display_name": "base",
   "language": "python",
   "name": "python3"
  },
  "language_info": {
   "codemirror_mode": {
    "name": "ipython",
    "version": 3
   },
   "file_extension": ".py",
   "mimetype": "text/x-python",
   "name": "python",
   "nbconvert_exporter": "python",
   "pygments_lexer": "ipython3",
   "version": "3.12.4"
  }
 },
 "nbformat": 4,
 "nbformat_minor": 2
}
