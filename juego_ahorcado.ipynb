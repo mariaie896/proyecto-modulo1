{
 "cells": [
  {
   "cell_type": "markdown",
   "metadata": {},
   "source": [
    "## Ahorcado\n",
    "\n",
    "Es un juego de adivinanzas en el que un jugador elige una palabra y el otro jugador debe adivinarla letra por letra. El jugador que adivina la palabra tiene un número limitado de oportunidades para adivinar las letras que forman la palabra. Cada vez que el jugador adivina una letra incorrecta, se dibuja una parte del cuerpo del personaje del ahorcado en una horca. Si el jugador adivina todas las letras de la palabra antes de que se complete el dibujo del personaje del ahorcado, gana el juego. Si el dibujo del personaje del ahorcado se completa antes de adivinar la palabra, pierde el juego."
   ]
  },
  {
   "cell_type": "markdown",
   "metadata": {},
   "source": [
    "for> itere por cada una de las letras de la palabra\n",
    "python:\n",
    "\n",
    "lista_acertadas= \n",
    "\n",
    "while lista_letra_acertada != palabra:\n",
    "\n",
    "> Agregar una lista vacia con las correctas  \n",
    "\n",
    "if letra in palabra:\n",
    "    lista_vacia.append(letra)\n",
    "else:\n",
    "    print( ' Vuelvelo a intentar)\n",
    "\n",
    "\n"
   ]
  },
  {
   "cell_type": "code",
   "execution_count": 15,
   "metadata": {},
   "outputs": [
    {
     "name": "stdout",
     "output_type": "stream",
     "text": [
      "Vuelvelo a intentar\n",
      "Vuelvelo a intentar\n",
      "Vuelvelo a intentar\n",
      "la letra: o esta en la palabra secreta\n",
      "la letra: r esta en la palabra secreta\n",
      "la letra: f esta en la palabra secreta\n",
      "la letra: l esta en la palabra secreta\n",
      "La palabra es, flor\n"
     ]
    }
   ],
   "source": [
    "import random\n",
    "\n",
    "Lista_palabras= ['arbol','mesa','lapiz','perro','flor']\n",
    "lista_letra_acertada=[]\n",
    "palabra_secreta = random.choice(Lista_palabras)\n",
    "palabra_oculta ='*' * len(palabra_secreta)\n",
    "\n",
    "def pista (lista)\n",
    "\n",
    "\n",
    "while len(lista_letra_acertada) != len(palabra_secreta):\n",
    "    \n",
    "    print ('Bienvenido al juego del Ahorcado, en este juego deberas adivinar la palabra secreta. ¡¡¡Comencemos!!! Una pista? mmmmmm de momento intentémoslo sin ella 😈😈...')\n",
    "    letra=input('Introduce una letra')\n",
    "\n",
    "    if letra in palabra_secreta:\n",
    "        print(f' La letra: {letra} esta en la palabra secreta.¡ MUY BIEN!. Sigamos....')\n",
    "        lista_letra_acertada.append(letra)\n",
    "    else:\n",
    "        print(f\"mmmmmm venga, inténtalo de nuevo, la letra {letra} no forma parte de la palabra secreta\")\n",
    "\n",
    "print (f'La palabra es, {palabra_secreta}')\n",
    "\n"
   ]
  },
  {
   "cell_type": "code",
   "execution_count": 13,
   "metadata": {},
   "outputs": [
    {
     "name": "stdout",
     "output_type": "stream",
     "text": [
      "perro\n"
     ]
    }
   ],
   "source": [
    "import random\n",
    "\n",
    "lista_letra_acertada=[]\n",
    "\n",
    "Lista_palabras= ['arbol','mesa','lapiz','perro','flor']\n",
    "palabra_secreta = random.choice(Lista_palabras)\n",
    "\n",
    "print (palabra_secreta)"
   ]
  }
 ],
 "metadata": {
  "kernelspec": {
   "display_name": "base",
   "language": "python",
   "name": "python3"
  },
  "language_info": {
   "codemirror_mode": {
    "name": "ipython",
    "version": 3
   },
   "file_extension": ".py",
   "mimetype": "text/x-python",
   "name": "python",
   "nbconvert_exporter": "python",
   "pygments_lexer": "ipython3",
   "version": "3.12.4"
  }
 },
 "nbformat": 4,
 "nbformat_minor": 2
}
