{
 "cells": [
  {
   "cell_type": "markdown",
   "metadata": {},
   "source": [
    "# PIEDRA, PAPEL O TIJERA\n",
    "\n",
    "Este es un juego clásico en el que dos jugadores seleccionan una de tres opciones: Piedra, Papel o Tijera. Cada opción tiene una relación de victoria diferente: la Piedra vence a la Tijera, la Tijera vence al Papel y el Papel vence a la Piedra. El objetivo del juego es elegir la opción que vencerá a la opción seleccionada por el oponente. El juego se juega en rondas y el jugador que gana más rondas es el ganador del juego."
   ]
  },
  {
   "cell_type": "markdown",
   "metadata": {},
   "source": [
    "CONDICIONALES \n",
    "\n",
    "1. ordenador se mueve random entre piedra, tijera y papel\n",
    "\n",
    "USUARIO SELECCIONA= piedra\n",
    "if ordenar=piedra > usuario=tijera:\n",
    "    print (perdiste) # Porque gana el ordenar\n",
    "\n",
    "if ordenador= piedra < usuario=papel:\n",
    "    print (ganaste) # Porque gana el usuario\n",
    "\n",
    "if ordenador= piedra == usuario=piedra \n",
    "    print (Tenemos un empate) \n",
    "\n",
    "ORDENADOR SELECCIONA= tijera  \n",
    "\n",
    "if ordenar=tijera < usuario=piedra:\n",
    "    print (ganaste) # Porque gana el usuario\n",
    "\n",
    "if ordenador= tijera < usuario=papel:\n",
    "    print (perdiste) # Porque gana el ordenar\n",
    "\n",
    "if ordenador= tijera == usuario=tijera\n",
    "    print (Tenemos un empate) \n",
    "\n",
    "\n",
    "ORDENADOR SELECCIONA= papel \n",
    "\n",
    "if ordenar=papel > usuario=piedra:\n",
    "    print (perdiste) # Porque gana el ordenador\n",
    "\n",
    "if ordenador= papel == usuario=papel:\n",
    "     print (Tenemos un empate) \n",
    "\n",
    "if ordenador=  papel < usuario=tijera\n",
    "    print (ganaste) # Porque gana el usuario\n"
   ]
  },
  {
   "cell_type": "code",
   "execution_count": null,
   "metadata": {},
   "outputs": [],
   "source": []
  },
  {
   "cell_type": "code",
   "execution_count": 22,
   "metadata": {},
   "outputs": [
    {
     "name": "stdout",
     "output_type": "stream",
     "text": [
      "El ordenador selecciono:tijera y el usuario selecciono:piedra\n",
      "GANASTE\n",
      "El marcador a quedado así:Ordenador: [0] - Usuario: [1]\n"
     ]
    }
   ],
   "source": [
    "\n",
    "# CODIGO SIN BUCLE \n",
    "\n",
    "import random \n",
    "\n",
    "lista_opciones= ['piedra', 'tijera','papel']\n",
    "computador_eleccion = random.choice(lista_opciones)\n",
    "marcador_usuario =[]\n",
    "marcador_ordenador= []\n",
    "\n",
    "\n",
    "seleccion_usuario= input(\"Comencemos!!!    Elige tu elemento de combate 😈 !! : piedra, papel o tijera\", )\n",
    "\n",
    "print (f'El ordenador selecciono:{computador_eleccion} y el usuario selecciono:{seleccion_usuario}')\n",
    "\n",
    "\n",
    "if seleccion_usuario == 'tijera' and computador_eleccion == 'tijera':\n",
    "    print (f'Tenemos un empate')\n",
    "    marcador_usuario.append(0)\n",
    "    marcador_ordenador.append(0)\n",
    "elif seleccion_usuario == 'tijera' and computador_eleccion == 'papel':\n",
    "    print (f'GANASTE')\n",
    "    marcador_usuario.append(1)\n",
    "    marcador_ordenador.append(0)\n",
    "elif seleccion_usuario == 'tijera' and computador_eleccion == 'piedra':\n",
    "    print (f'PERDISTE') \n",
    "    marcador_usuario.append(0)\n",
    "    marcador_ordenador.append(1)\n",
    "elif seleccion_usuario == 'papel' and computador_eleccion == 'papel':\n",
    "    print (f'Tenemos un empate') \n",
    "    marcador_usuario.append(0)\n",
    "    marcador_ordenador.append(0)\n",
    "elif seleccion_usuario == 'papel' and computador_eleccion == 'piedra':\n",
    "    print (f'GANASTE') \n",
    "    marcador_usuario.append(1)\n",
    "    marcador_ordenador.append(0)\n",
    "elif seleccion_usuario == 'papel' and computador_eleccion == 'tijera':\n",
    "    print (f'PERDISTE')\n",
    "    marcador_usuario.append(0)\n",
    "    marcador_ordenador.append(1) \n",
    "elif seleccion_usuario == 'piedra' and computador_eleccion == 'piedra':\n",
    "    print (f'Tenemos un empate') \n",
    "    marcador_usuario.append(0)\n",
    "    marcador_ordenador.append(0)\n",
    "elif seleccion_usuario == 'piedra' and computador_eleccion == 'tijera':\n",
    "    print (f'GANASTE')\n",
    "    marcador_usuario.append(1)\n",
    "    marcador_ordenador.append(0) \n",
    "elif seleccion_usuario == 'piedra' and computador_eleccion == 'papel':\n",
    "    print (f'PERDISTE')\n",
    "    marcador_usuario.append(0)\n",
    "    marcador_ordenador.append(1)  \n",
    "else: \n",
    "    print ('\"Ups! esta opción no es válida 🤪\"')\n",
    "\n",
    "print (f'El marcador a quedado así:Ordenador: {marcador_ordenador} - Usuario: {marcador_usuario}')"
   ]
  },
  {
   "cell_type": "code",
   "execution_count": null,
   "metadata": {},
   "outputs": [],
   "source": [
    "# WHILE\n",
    "limite_partidas=3\n",
    "\n",
    "\n",
    "while seleccion_usuario \n",
    "\n",
    "\n",
    "\n"
   ]
  }
 ],
 "metadata": {
  "kernelspec": {
   "display_name": "base",
   "language": "python",
   "name": "python3"
  },
  "language_info": {
   "codemirror_mode": {
    "name": "ipython",
    "version": 3
   },
   "file_extension": ".py",
   "mimetype": "text/x-python",
   "name": "python",
   "nbconvert_exporter": "python",
   "pygments_lexer": "ipython3",
   "version": "3.12.4"
  }
 },
 "nbformat": 4,
 "nbformat_minor": 2
}
